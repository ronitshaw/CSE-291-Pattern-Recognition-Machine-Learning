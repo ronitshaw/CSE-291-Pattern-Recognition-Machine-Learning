{
 "cells": [
  {
   "cell_type": "code",
   "execution_count": 2,
   "metadata": {
    "collapsed": true
   },
   "outputs": [],
   "source": [
    "import pandas as pd\n",
    "import numpy as np\n",
    "import warnings\n",
    "warnings.filterwarnings('ignore')\n",
    "%matplotlib inline"
   ]
  },
  {
   "cell_type": "code",
   "execution_count": 3,
   "metadata": {
    "collapsed": true
   },
   "outputs": [],
   "source": [
    "names = ['Class', 'Alcohol', 'Malic Acid', 'Ash', 'Ash Alcalinity', 'Magnesium', 'Total Phenols', \\\n",
    "           'Flavanoids', 'Nonflavanoid Phenols', 'Proanthocyanins', 'Color Intensity', 'Hue', \\\n",
    "           'Dilution', 'Proline']\n",
    "wine_path = 'D:/UCSD Spring 2017/CSE 291/Homework1/wine.csv'\n",
    "wine_df = pd.read_csv(wine_path, names=names)"
   ]
  },
  {
   "cell_type": "code",
   "execution_count": 4,
   "metadata": {
    "collapsed": false
   },
   "outputs": [
    {
     "data": {
      "text/plain": [
       "(178, 14)"
      ]
     },
     "execution_count": 4,
     "metadata": {},
     "output_type": "execute_result"
    }
   ],
   "source": [
    "wine_df.shape"
   ]
  },
  {
   "cell_type": "code",
   "execution_count": 5,
   "metadata": {
    "collapsed": true
   },
   "outputs": [],
   "source": [
    "index_1s = wine_df['Class'] == 1\n",
    "index_2s = wine_df['Class'] == 2"
   ]
  },
  {
   "cell_type": "code",
   "execution_count": 6,
   "metadata": {
    "collapsed": true
   },
   "outputs": [],
   "source": [
    "wine_df = wine_df.loc[index_1s | index_2s]"
   ]
  },
  {
   "cell_type": "code",
   "execution_count": 7,
   "metadata": {
    "collapsed": false
   },
   "outputs": [
    {
     "data": {
      "text/plain": [
       "(130, 14)"
      ]
     },
     "execution_count": 7,
     "metadata": {},
     "output_type": "execute_result"
    }
   ],
   "source": [
    "wine_df.shape"
   ]
  },
  {
   "cell_type": "code",
   "execution_count": 8,
   "metadata": {
    "collapsed": true
   },
   "outputs": [],
   "source": [
    "X = wine_df.drop('Class',axis=1)\n",
    "y = wine_df['Class']"
   ]
  },
  {
   "cell_type": "code",
   "execution_count": 9,
   "metadata": {
    "collapsed": false
   },
   "outputs": [
    {
     "data": {
      "text/html": [
       "<div>\n",
       "<table border=\"1\" class=\"dataframe\">\n",
       "  <thead>\n",
       "    <tr style=\"text-align: right;\">\n",
       "      <th></th>\n",
       "      <th>Class</th>\n",
       "      <th>Alcohol</th>\n",
       "      <th>Malic Acid</th>\n",
       "      <th>Ash</th>\n",
       "      <th>Ash Alcalinity</th>\n",
       "      <th>Magnesium</th>\n",
       "      <th>Total Phenols</th>\n",
       "      <th>Flavanoids</th>\n",
       "      <th>Nonflavanoid Phenols</th>\n",
       "      <th>Proanthocyanins</th>\n",
       "      <th>Color Intensity</th>\n",
       "      <th>Hue</th>\n",
       "      <th>Dilution</th>\n",
       "      <th>Proline</th>\n",
       "    </tr>\n",
       "  </thead>\n",
       "  <tbody>\n",
       "    <tr>\n",
       "      <th>0</th>\n",
       "      <td>1</td>\n",
       "      <td>14.23</td>\n",
       "      <td>1.71</td>\n",
       "      <td>2.43</td>\n",
       "      <td>15.6</td>\n",
       "      <td>127</td>\n",
       "      <td>2.80</td>\n",
       "      <td>3.06</td>\n",
       "      <td>0.28</td>\n",
       "      <td>2.29</td>\n",
       "      <td>5.64</td>\n",
       "      <td>1.04</td>\n",
       "      <td>3.92</td>\n",
       "      <td>1065</td>\n",
       "    </tr>\n",
       "    <tr>\n",
       "      <th>1</th>\n",
       "      <td>1</td>\n",
       "      <td>13.20</td>\n",
       "      <td>1.78</td>\n",
       "      <td>2.14</td>\n",
       "      <td>11.2</td>\n",
       "      <td>100</td>\n",
       "      <td>2.65</td>\n",
       "      <td>2.76</td>\n",
       "      <td>0.26</td>\n",
       "      <td>1.28</td>\n",
       "      <td>4.38</td>\n",
       "      <td>1.05</td>\n",
       "      <td>3.40</td>\n",
       "      <td>1050</td>\n",
       "    </tr>\n",
       "    <tr>\n",
       "      <th>2</th>\n",
       "      <td>1</td>\n",
       "      <td>13.16</td>\n",
       "      <td>2.36</td>\n",
       "      <td>2.67</td>\n",
       "      <td>18.6</td>\n",
       "      <td>101</td>\n",
       "      <td>2.80</td>\n",
       "      <td>3.24</td>\n",
       "      <td>0.30</td>\n",
       "      <td>2.81</td>\n",
       "      <td>5.68</td>\n",
       "      <td>1.03</td>\n",
       "      <td>3.17</td>\n",
       "      <td>1185</td>\n",
       "    </tr>\n",
       "    <tr>\n",
       "      <th>3</th>\n",
       "      <td>1</td>\n",
       "      <td>14.37</td>\n",
       "      <td>1.95</td>\n",
       "      <td>2.50</td>\n",
       "      <td>16.8</td>\n",
       "      <td>113</td>\n",
       "      <td>3.85</td>\n",
       "      <td>3.49</td>\n",
       "      <td>0.24</td>\n",
       "      <td>2.18</td>\n",
       "      <td>7.80</td>\n",
       "      <td>0.86</td>\n",
       "      <td>3.45</td>\n",
       "      <td>1480</td>\n",
       "    </tr>\n",
       "    <tr>\n",
       "      <th>4</th>\n",
       "      <td>1</td>\n",
       "      <td>13.24</td>\n",
       "      <td>2.59</td>\n",
       "      <td>2.87</td>\n",
       "      <td>21.0</td>\n",
       "      <td>118</td>\n",
       "      <td>2.80</td>\n",
       "      <td>2.69</td>\n",
       "      <td>0.39</td>\n",
       "      <td>1.82</td>\n",
       "      <td>4.32</td>\n",
       "      <td>1.04</td>\n",
       "      <td>2.93</td>\n",
       "      <td>735</td>\n",
       "    </tr>\n",
       "  </tbody>\n",
       "</table>\n",
       "</div>"
      ],
      "text/plain": [
       "   Class  Alcohol  Malic Acid   Ash  Ash Alcalinity  Magnesium  Total Phenols  \\\n",
       "0      1    14.23        1.71  2.43            15.6        127           2.80   \n",
       "1      1    13.20        1.78  2.14            11.2        100           2.65   \n",
       "2      1    13.16        2.36  2.67            18.6        101           2.80   \n",
       "3      1    14.37        1.95  2.50            16.8        113           3.85   \n",
       "4      1    13.24        2.59  2.87            21.0        118           2.80   \n",
       "\n",
       "   Flavanoids  Nonflavanoid Phenols  Proanthocyanins  Color Intensity   Hue  \\\n",
       "0        3.06                  0.28             2.29             5.64  1.04   \n",
       "1        2.76                  0.26             1.28             4.38  1.05   \n",
       "2        3.24                  0.30             2.81             5.68  1.03   \n",
       "3        3.49                  0.24             2.18             7.80  0.86   \n",
       "4        2.69                  0.39             1.82             4.32  1.04   \n",
       "\n",
       "   Dilution  Proline  \n",
       "0      3.92     1065  \n",
       "1      3.40     1050  \n",
       "2      3.17     1185  \n",
       "3      3.45     1480  \n",
       "4      2.93      735  "
      ]
     },
     "execution_count": 9,
     "metadata": {},
     "output_type": "execute_result"
    }
   ],
   "source": [
    "wine_df.head()"
   ]
  },
  {
   "cell_type": "code",
   "execution_count": 10,
   "metadata": {
    "collapsed": false
   },
   "outputs": [
    {
     "data": {
      "text/html": [
       "<div>\n",
       "<table border=\"1\" class=\"dataframe\">\n",
       "  <thead>\n",
       "    <tr style=\"text-align: right;\">\n",
       "      <th></th>\n",
       "      <th>Alcohol</th>\n",
       "      <th>Malic Acid</th>\n",
       "      <th>Ash</th>\n",
       "      <th>Ash Alcalinity</th>\n",
       "      <th>Magnesium</th>\n",
       "      <th>Total Phenols</th>\n",
       "      <th>Flavanoids</th>\n",
       "      <th>Nonflavanoid Phenols</th>\n",
       "      <th>Proanthocyanins</th>\n",
       "      <th>Color Intensity</th>\n",
       "      <th>Hue</th>\n",
       "      <th>Dilution</th>\n",
       "      <th>Proline</th>\n",
       "    </tr>\n",
       "  </thead>\n",
       "  <tbody>\n",
       "    <tr>\n",
       "      <th>count</th>\n",
       "      <td>130.000000</td>\n",
       "      <td>130.000000</td>\n",
       "      <td>130.000000</td>\n",
       "      <td>130.000000</td>\n",
       "      <td>130.000000</td>\n",
       "      <td>130.000000</td>\n",
       "      <td>130.000000</td>\n",
       "      <td>130.000000</td>\n",
       "      <td>130.000000</td>\n",
       "      <td>130.000000</td>\n",
       "      <td>130.000000</td>\n",
       "      <td>130.000000</td>\n",
       "      <td>130.000000</td>\n",
       "    </tr>\n",
       "    <tr>\n",
       "      <th>mean</th>\n",
       "      <td>12.944077</td>\n",
       "      <td>1.968077</td>\n",
       "      <td>2.340462</td>\n",
       "      <td>18.785385</td>\n",
       "      <td>99.900000</td>\n",
       "      <td>2.522692</td>\n",
       "      <td>2.490000</td>\n",
       "      <td>0.330231</td>\n",
       "      <td>1.752385</td>\n",
       "      <td>4.194769</td>\n",
       "      <td>1.058892</td>\n",
       "      <td>2.954385</td>\n",
       "      <td>790.092308</td>\n",
       "    </tr>\n",
       "    <tr>\n",
       "      <th>std</th>\n",
       "      <td>0.888769</td>\n",
       "      <td>0.879968</td>\n",
       "      <td>0.297162</td>\n",
       "      <td>3.400459</td>\n",
       "      <td>15.381379</td>\n",
       "      <td>0.545393</td>\n",
       "      <td>0.737765</td>\n",
       "      <td>0.109087</td>\n",
       "      <td>0.539572</td>\n",
       "      <td>1.625782</td>\n",
       "      <td>0.168690</td>\n",
       "      <td>0.475166</td>\n",
       "      <td>352.513026</td>\n",
       "    </tr>\n",
       "    <tr>\n",
       "      <th>min</th>\n",
       "      <td>11.030000</td>\n",
       "      <td>0.740000</td>\n",
       "      <td>1.360000</td>\n",
       "      <td>10.600000</td>\n",
       "      <td>70.000000</td>\n",
       "      <td>1.100000</td>\n",
       "      <td>0.570000</td>\n",
       "      <td>0.130000</td>\n",
       "      <td>0.410000</td>\n",
       "      <td>1.280000</td>\n",
       "      <td>0.690000</td>\n",
       "      <td>1.590000</td>\n",
       "      <td>278.000000</td>\n",
       "    </tr>\n",
       "    <tr>\n",
       "      <th>25%</th>\n",
       "      <td>12.227500</td>\n",
       "      <td>1.510000</td>\n",
       "      <td>2.170000</td>\n",
       "      <td>16.525000</td>\n",
       "      <td>88.000000</td>\n",
       "      <td>2.147500</td>\n",
       "      <td>2.002500</td>\n",
       "      <td>0.260000</td>\n",
       "      <td>1.422500</td>\n",
       "      <td>2.862500</td>\n",
       "      <td>0.940000</td>\n",
       "      <td>2.732500</td>\n",
       "      <td>474.000000</td>\n",
       "    </tr>\n",
       "    <tr>\n",
       "      <th>50%</th>\n",
       "      <td>13.010000</td>\n",
       "      <td>1.730000</td>\n",
       "      <td>2.320000</td>\n",
       "      <td>18.550000</td>\n",
       "      <td>98.000000</td>\n",
       "      <td>2.560000</td>\n",
       "      <td>2.565000</td>\n",
       "      <td>0.300000</td>\n",
       "      <td>1.705000</td>\n",
       "      <td>3.870000</td>\n",
       "      <td>1.050000</td>\n",
       "      <td>2.980000</td>\n",
       "      <td>716.000000</td>\n",
       "    </tr>\n",
       "    <tr>\n",
       "      <th>75%</th>\n",
       "      <td>13.727500</td>\n",
       "      <td>2.057500</td>\n",
       "      <td>2.527500</td>\n",
       "      <td>20.950000</td>\n",
       "      <td>108.000000</td>\n",
       "      <td>2.937500</td>\n",
       "      <td>2.997500</td>\n",
       "      <td>0.397500</td>\n",
       "      <td>2.005000</td>\n",
       "      <td>5.375000</td>\n",
       "      <td>1.167500</td>\n",
       "      <td>3.300000</td>\n",
       "      <td>1063.750000</td>\n",
       "    </tr>\n",
       "    <tr>\n",
       "      <th>max</th>\n",
       "      <td>14.830000</td>\n",
       "      <td>5.800000</td>\n",
       "      <td>3.230000</td>\n",
       "      <td>30.000000</td>\n",
       "      <td>162.000000</td>\n",
       "      <td>3.880000</td>\n",
       "      <td>5.080000</td>\n",
       "      <td>0.660000</td>\n",
       "      <td>3.580000</td>\n",
       "      <td>8.900000</td>\n",
       "      <td>1.710000</td>\n",
       "      <td>4.000000</td>\n",
       "      <td>1680.000000</td>\n",
       "    </tr>\n",
       "  </tbody>\n",
       "</table>\n",
       "</div>"
      ],
      "text/plain": [
       "          Alcohol  Malic Acid         Ash  Ash Alcalinity   Magnesium  \\\n",
       "count  130.000000  130.000000  130.000000      130.000000  130.000000   \n",
       "mean    12.944077    1.968077    2.340462       18.785385   99.900000   \n",
       "std      0.888769    0.879968    0.297162        3.400459   15.381379   \n",
       "min     11.030000    0.740000    1.360000       10.600000   70.000000   \n",
       "25%     12.227500    1.510000    2.170000       16.525000   88.000000   \n",
       "50%     13.010000    1.730000    2.320000       18.550000   98.000000   \n",
       "75%     13.727500    2.057500    2.527500       20.950000  108.000000   \n",
       "max     14.830000    5.800000    3.230000       30.000000  162.000000   \n",
       "\n",
       "       Total Phenols  Flavanoids  Nonflavanoid Phenols  Proanthocyanins  \\\n",
       "count     130.000000  130.000000            130.000000       130.000000   \n",
       "mean        2.522692    2.490000              0.330231         1.752385   \n",
       "std         0.545393    0.737765              0.109087         0.539572   \n",
       "min         1.100000    0.570000              0.130000         0.410000   \n",
       "25%         2.147500    2.002500              0.260000         1.422500   \n",
       "50%         2.560000    2.565000              0.300000         1.705000   \n",
       "75%         2.937500    2.997500              0.397500         2.005000   \n",
       "max         3.880000    5.080000              0.660000         3.580000   \n",
       "\n",
       "       Color Intensity         Hue    Dilution      Proline  \n",
       "count       130.000000  130.000000  130.000000   130.000000  \n",
       "mean          4.194769    1.058892    2.954385   790.092308  \n",
       "std           1.625782    0.168690    0.475166   352.513026  \n",
       "min           1.280000    0.690000    1.590000   278.000000  \n",
       "25%           2.862500    0.940000    2.732500   474.000000  \n",
       "50%           3.870000    1.050000    2.980000   716.000000  \n",
       "75%           5.375000    1.167500    3.300000  1063.750000  \n",
       "max           8.900000    1.710000    4.000000  1680.000000  "
      ]
     },
     "execution_count": 10,
     "metadata": {},
     "output_type": "execute_result"
    }
   ],
   "source": [
    "X.describe()"
   ]
  },
  {
   "cell_type": "code",
   "execution_count": 11,
   "metadata": {
    "collapsed": false
   },
   "outputs": [
    {
     "data": {
      "text/html": [
       "<div>\n",
       "<table border=\"1\" class=\"dataframe\">\n",
       "  <thead>\n",
       "    <tr style=\"text-align: right;\">\n",
       "      <th></th>\n",
       "      <th>Alcohol</th>\n",
       "      <th>Malic Acid</th>\n",
       "      <th>Ash</th>\n",
       "      <th>Ash Alcalinity</th>\n",
       "      <th>Magnesium</th>\n",
       "      <th>Total Phenols</th>\n",
       "      <th>Flavanoids</th>\n",
       "      <th>Nonflavanoid Phenols</th>\n",
       "      <th>Proanthocyanins</th>\n",
       "      <th>Color Intensity</th>\n",
       "      <th>Hue</th>\n",
       "      <th>Dilution</th>\n",
       "      <th>Proline</th>\n",
       "    </tr>\n",
       "  </thead>\n",
       "  <tbody>\n",
       "    <tr>\n",
       "      <th>count</th>\n",
       "      <td>1.300000e+02</td>\n",
       "      <td>1.300000e+02</td>\n",
       "      <td>1.300000e+02</td>\n",
       "      <td>1.300000e+02</td>\n",
       "      <td>1.300000e+02</td>\n",
       "      <td>1.300000e+02</td>\n",
       "      <td>1.300000e+02</td>\n",
       "      <td>1.300000e+02</td>\n",
       "      <td>1.300000e+02</td>\n",
       "      <td>1.300000e+02</td>\n",
       "      <td>1.300000e+02</td>\n",
       "      <td>1.300000e+02</td>\n",
       "      <td>1.300000e+02</td>\n",
       "    </tr>\n",
       "    <tr>\n",
       "      <th>mean</th>\n",
       "      <td>7.020026e-16</td>\n",
       "      <td>3.416071e-17</td>\n",
       "      <td>2.598349e-16</td>\n",
       "      <td>2.041102e-16</td>\n",
       "      <td>-4.457972e-16</td>\n",
       "      <td>-9.992007e-17</td>\n",
       "      <td>3.774758e-16</td>\n",
       "      <td>-3.902861e-16</td>\n",
       "      <td>-1.187085e-16</td>\n",
       "      <td>1.485991e-16</td>\n",
       "      <td>-5.961044e-16</td>\n",
       "      <td>8.770762e-16</td>\n",
       "      <td>-4.440892e-17</td>\n",
       "    </tr>\n",
       "    <tr>\n",
       "      <th>std</th>\n",
       "      <td>1.003868e+00</td>\n",
       "      <td>1.003868e+00</td>\n",
       "      <td>1.003868e+00</td>\n",
       "      <td>1.003868e+00</td>\n",
       "      <td>1.003868e+00</td>\n",
       "      <td>1.003868e+00</td>\n",
       "      <td>1.003868e+00</td>\n",
       "      <td>1.003868e+00</td>\n",
       "      <td>1.003868e+00</td>\n",
       "      <td>1.003868e+00</td>\n",
       "      <td>1.003868e+00</td>\n",
       "      <td>1.003868e+00</td>\n",
       "      <td>1.003868e+00</td>\n",
       "    </tr>\n",
       "    <tr>\n",
       "      <th>min</th>\n",
       "      <td>-2.161957e+00</td>\n",
       "      <td>-1.400991e+00</td>\n",
       "      <td>-3.312182e+00</td>\n",
       "      <td>-2.416453e+00</td>\n",
       "      <td>-1.951429e+00</td>\n",
       "      <td>-2.618653e+00</td>\n",
       "      <td>-2.612521e+00</td>\n",
       "      <td>-1.842617e+00</td>\n",
       "      <td>-2.497495e+00</td>\n",
       "      <td>-1.799777e+00</td>\n",
       "      <td>-2.195268e+00</td>\n",
       "      <td>-2.882492e+00</td>\n",
       "      <td>-1.458310e+00</td>\n",
       "    </tr>\n",
       "    <tr>\n",
       "      <th>25%</th>\n",
       "      <td>-8.093764e-01</td>\n",
       "      <td>-5.225744e-01</td>\n",
       "      <td>-5.758509e-01</td>\n",
       "      <td>-6.673009e-01</td>\n",
       "      <td>-7.766557e-01</td>\n",
       "      <td>-6.905910e-01</td>\n",
       "      <td>-6.633354e-01</td>\n",
       "      <td>-6.462964e-01</td>\n",
       "      <td>-6.137474e-01</td>\n",
       "      <td>-8.226336e-01</td>\n",
       "      <td>-7.075249e-01</td>\n",
       "      <td>-4.687685e-01</td>\n",
       "      <td>-9.001514e-01</td>\n",
       "    </tr>\n",
       "    <tr>\n",
       "      <th>50%</th>\n",
       "      <td>7.446037e-02</td>\n",
       "      <td>-2.715983e-01</td>\n",
       "      <td>-6.912290e-02</td>\n",
       "      <td>-6.948922e-02</td>\n",
       "      <td>-1.240038e-01</td>\n",
       "      <td>6.866973e-02</td>\n",
       "      <td>1.020516e-01</td>\n",
       "      <td>-2.781977e-01</td>\n",
       "      <td>-8.815866e-02</td>\n",
       "      <td>-2.005346e-01</td>\n",
       "      <td>-5.291788e-02</td>\n",
       "      <td>5.411680e-02</td>\n",
       "      <td>-2.109963e-01</td>\n",
       "    </tr>\n",
       "    <tr>\n",
       "      <th>75%</th>\n",
       "      <td>8.848793e-01</td>\n",
       "      <td>1.020139e-01</td>\n",
       "      <td>6.318509e-01</td>\n",
       "      <td>6.390283e-01</td>\n",
       "      <td>5.286480e-01</td>\n",
       "      <td>7.635083e-01</td>\n",
       "      <td>6.905492e-01</td>\n",
       "      <td>6.190429e-01</td>\n",
       "      <td>4.699887e-01</td>\n",
       "      <td>7.287547e-01</td>\n",
       "      <td>6.463214e-01</td>\n",
       "      <td>7.301706e-01</td>\n",
       "      <td>7.793083e-01</td>\n",
       "    </tr>\n",
       "    <tr>\n",
       "      <th>max</th>\n",
       "      <td>2.130157e+00</td>\n",
       "      <td>4.371460e+00</td>\n",
       "      <td>3.005027e+00</td>\n",
       "      <td>3.310730e+00</td>\n",
       "      <td>4.052968e+00</td>\n",
       "      <td>2.498304e+00</td>\n",
       "      <td>3.524182e+00</td>\n",
       "      <td>3.034691e+00</td>\n",
       "      <td>3.400262e+00</td>\n",
       "      <td>2.905329e+00</td>\n",
       "      <td>3.874724e+00</td>\n",
       "      <td>2.209038e+00</td>\n",
       "      <td>2.534233e+00</td>\n",
       "    </tr>\n",
       "  </tbody>\n",
       "</table>\n",
       "</div>"
      ],
      "text/plain": [
       "            Alcohol    Malic Acid           Ash  Ash Alcalinity     Magnesium  \\\n",
       "count  1.300000e+02  1.300000e+02  1.300000e+02    1.300000e+02  1.300000e+02   \n",
       "mean   7.020026e-16  3.416071e-17  2.598349e-16    2.041102e-16 -4.457972e-16   \n",
       "std    1.003868e+00  1.003868e+00  1.003868e+00    1.003868e+00  1.003868e+00   \n",
       "min   -2.161957e+00 -1.400991e+00 -3.312182e+00   -2.416453e+00 -1.951429e+00   \n",
       "25%   -8.093764e-01 -5.225744e-01 -5.758509e-01   -6.673009e-01 -7.766557e-01   \n",
       "50%    7.446037e-02 -2.715983e-01 -6.912290e-02   -6.948922e-02 -1.240038e-01   \n",
       "75%    8.848793e-01  1.020139e-01  6.318509e-01    6.390283e-01  5.286480e-01   \n",
       "max    2.130157e+00  4.371460e+00  3.005027e+00    3.310730e+00  4.052968e+00   \n",
       "\n",
       "       Total Phenols    Flavanoids  Nonflavanoid Phenols  Proanthocyanins  \\\n",
       "count   1.300000e+02  1.300000e+02          1.300000e+02     1.300000e+02   \n",
       "mean   -9.992007e-17  3.774758e-16         -3.902861e-16    -1.187085e-16   \n",
       "std     1.003868e+00  1.003868e+00          1.003868e+00     1.003868e+00   \n",
       "min    -2.618653e+00 -2.612521e+00         -1.842617e+00    -2.497495e+00   \n",
       "25%    -6.905910e-01 -6.633354e-01         -6.462964e-01    -6.137474e-01   \n",
       "50%     6.866973e-02  1.020516e-01         -2.781977e-01    -8.815866e-02   \n",
       "75%     7.635083e-01  6.905492e-01          6.190429e-01     4.699887e-01   \n",
       "max     2.498304e+00  3.524182e+00          3.034691e+00     3.400262e+00   \n",
       "\n",
       "       Color Intensity           Hue      Dilution       Proline  \n",
       "count     1.300000e+02  1.300000e+02  1.300000e+02  1.300000e+02  \n",
       "mean      1.485991e-16 -5.961044e-16  8.770762e-16 -4.440892e-17  \n",
       "std       1.003868e+00  1.003868e+00  1.003868e+00  1.003868e+00  \n",
       "min      -1.799777e+00 -2.195268e+00 -2.882492e+00 -1.458310e+00  \n",
       "25%      -8.226336e-01 -7.075249e-01 -4.687685e-01 -9.001514e-01  \n",
       "50%      -2.005346e-01 -5.291788e-02  5.411680e-02 -2.109963e-01  \n",
       "75%       7.287547e-01  6.463214e-01  7.301706e-01  7.793083e-01  \n",
       "max       2.905329e+00  3.874724e+00  2.209038e+00  2.534233e+00  "
      ]
     },
     "execution_count": 11,
     "metadata": {},
     "output_type": "execute_result"
    }
   ],
   "source": [
    "from sklearn.preprocessing import StandardScaler\n",
    "X_std = pd.DataFrame(StandardScaler().fit_transform(X), columns=names[1:])\n",
    "X_std.describe()"
   ]
  },
  {
   "cell_type": "code",
   "execution_count": 12,
   "metadata": {
    "collapsed": false
   },
   "outputs": [
    {
     "data": {
      "text/plain": [
       "(130, 13)"
      ]
     },
     "execution_count": 12,
     "metadata": {},
     "output_type": "execute_result"
    }
   ],
   "source": [
    "X_std.shape"
   ]
  },
  {
   "cell_type": "code",
   "execution_count": 13,
   "metadata": {
    "collapsed": true
   },
   "outputs": [],
   "source": [
    "X_train=X_std.as_matrix()\n",
    "Y_train=y.as_matrix()"
   ]
  },
  {
   "cell_type": "code",
   "execution_count": 14,
   "metadata": {
    "collapsed": true
   },
   "outputs": [],
   "source": [
    "cov=np.cov((X_train).T)"
   ]
  },
  {
   "cell_type": "code",
   "execution_count": 15,
   "metadata": {
    "collapsed": false
   },
   "outputs": [
    {
     "data": {
      "text/plain": [
       "(13, 13)"
      ]
     },
     "execution_count": 15,
     "metadata": {},
     "output_type": "execute_result"
    }
   ],
   "source": [
    "cov.shape"
   ]
  },
  {
   "cell_type": "code",
   "execution_count": 16,
   "metadata": {
    "collapsed": true
   },
   "outputs": [],
   "source": [
    "from numpy import linalg as LA\n",
    "eig_val, eig_vec = LA.eig(cov)"
   ]
  },
  {
   "cell_type": "code",
   "execution_count": 17,
   "metadata": {
    "collapsed": true
   },
   "outputs": [],
   "source": [
    "eig_vec=np.real(eig_vec)\n",
    "\n",
    "eig_val=np.real(eig_val)\n"
   ]
  },
  {
   "cell_type": "code",
   "execution_count": 18,
   "metadata": {
    "collapsed": false
   },
   "outputs": [
    {
     "data": {
      "text/plain": [
       "(13, 13)"
      ]
     },
     "execution_count": 18,
     "metadata": {},
     "output_type": "execute_result"
    }
   ],
   "source": [
    "eig_vec.shape"
   ]
  },
  {
   "cell_type": "code",
   "execution_count": 19,
   "metadata": {
    "collapsed": true
   },
   "outputs": [],
   "source": [
    "sorted_eig_val=np.sort(eig_val)[::-1]\n",
    "index_sorted_eig_val=np.argsort(eig_val)[::-1]"
   ]
  },
  {
   "cell_type": "code",
   "execution_count": 20,
   "metadata": {
    "collapsed": false
   },
   "outputs": [],
   "source": [
    "cumilative_sorted_eig_val=np.cumsum(sorted_eig_val)\n",
    "norm_cumilative_sorted_eig_val=cumilative_sorted_eig_val/(max(cumilative_sorted_eig_val))"
   ]
  },
  {
   "cell_type": "code",
   "execution_count": 21,
   "metadata": {
    "collapsed": false
   },
   "outputs": [
    {
     "data": {
      "image/png": "[encoded data removed]",
      "text/plain": [
       "<matplotlib.figure.Figure at 0x91b6c30>"
      ]
     },
     "metadata": {},
     "output_type": "display_data"
    }
   ],
   "source": [
    "import matplotlib.pyplot as plt\n",
    "plt.figure(figsize=(10,10))\n",
    "plt.plot(range(len(norm_cumilative_sorted_eig_val)), norm_cumilative_sorted_eig_val)\n",
    "plt.xlabel('Number of Principal Components(Starting with the most relevant)')\n",
    "plt.ylabel('Normalized Cumilative Sum of there correspoing Eigen Values')\n",
    "plt.show()"
   ]
  },
  {
   "cell_type": "code",
   "execution_count": 22,
   "metadata": {
    "collapsed": true
   },
   "outputs": [],
   "source": [
    "pca_components=eig_vec[:,index_sorted_eig_val[0]]\n",
    "for i in range(len(eig_val)-1):\n",
    "    pca_components=np.column_stack((pca_components,eig_vec[:,index_sorted_eig_val[i+1]]))"
   ]
  },
  {
   "cell_type": "code",
   "execution_count": 23,
   "metadata": {
    "collapsed": false
   },
   "outputs": [
    {
     "data": {
      "text/plain": [
       "(13, 13)"
      ]
     },
     "execution_count": 23,
     "metadata": {},
     "output_type": "execute_result"
    }
   ],
   "source": [
    "pca_components.shape"
   ]
  },
  {
   "cell_type": "code",
   "execution_count": 24,
   "metadata": {
    "collapsed": true
   },
   "outputs": [],
   "source": [
    "X_train_mean=(X_train.T).mean(1)"
   ]
  },
  {
   "cell_type": "code",
   "execution_count": 25,
   "metadata": {
    "collapsed": true
   },
   "outputs": [],
   "source": [
    "error_reconstructions=[]\n",
    "n = 13\n",
    "for i in range(n):\n",
    "    temp=sorted_eig_val\n",
    "    error=sum(temp[i+1:])\n",
    "    error_reconstructions.append(error)"
   ]
  },
  {
   "cell_type": "code",
   "execution_count": 26,
   "metadata": {
    "collapsed": false
   },
   "outputs": [
    {
     "data": {
      "text/plain": [
       "13"
      ]
     },
     "execution_count": 26,
     "metadata": {},
     "output_type": "execute_result"
    }
   ],
   "source": [
    "len(error_reconstructions)"
   ]
  },
  {
   "cell_type": "code",
   "execution_count": 27,
   "metadata": {
    "collapsed": false
   },
   "outputs": [
    {
     "data": {
      "image/png": "[encoded data removed]",
      "text/plain": [
       "<matplotlib.figure.Figure at 0x9986cd0>"
      ]
     },
     "metadata": {},
     "output_type": "display_data"
    }
   ],
   "source": [
    "plt.figure(figsize=(10,10))\n",
    "plt.plot(range(13), error_reconstructions)\n",
    "plt.xlabel('Number of Principal Components used')\n",
    "plt.ylabel('Reconstruction Error')\n",
    "plt.show()"
   ]
  },
  {
   "cell_type": "code",
   "execution_count": 28,
   "metadata": {
    "collapsed": true
   },
   "outputs": [],
   "source": [
    "n=7\n",
    "#number of Principal components\n",
    "temp=np.array([(X_train[i,:].T-X_train_mean) for i in range(len(X_train))])\n",
    "X_train_classifier=temp.dot(pca_components[:,0:n])"
   ]
  },
  {
   "cell_type": "code",
   "execution_count": 29,
   "metadata": {
    "collapsed": false
   },
   "outputs": [
    {
     "data": {
      "text/plain": [
       "(130, 7)"
      ]
     },
     "execution_count": 29,
     "metadata": {},
     "output_type": "execute_result"
    }
   ],
   "source": [
    "X_train_classifier.shape"
   ]
  },
  {
   "cell_type": "code",
   "execution_count": 30,
   "metadata": {
    "collapsed": false
   },
   "outputs": [],
   "source": [
    "index_1s = Y_train == 1\n",
    "index_2s = Y_train == 2\n",
    "\n",
    "data_1 = X_train_classifier[index_1s]\n",
    "data_2 = X_train_classifier[index_2s]\n",
    "\n",
    "\n",
    "data_1=data_1[:,0:784]\n",
    "data_2=data_2[:,0:784]\n",
    "\n",
    "X_train_classifier_mean=(X_train_classifier.T).mean(1)\n",
    "\n",
    "data_1_mean=(data_1.T).mean(1)\n",
    "data_2_mean=(data_2.T).mean(1)\n",
    "\n",
    "cov_classifier=np.cov((X_train_classifier).T)\n",
    "\n",
    "cov_1=np.cov((data_1).T)\n",
    "cov_2=np.cov((data_2).T)\n",
    "\n",
    "S_W=cov_1+cov_2\n",
    "\n",
    "temp=(data_1_mean-X_train_classifier_mean)\n",
    "temp=np.reshape(temp,(temp.size,1))\n",
    "temp=temp.dot(temp.T)\n",
    "temp=len(data_1)*temp\n",
    "\n",
    "temp1=(data_2_mean-X_train_classifier_mean)\n",
    "temp1=np.reshape(temp1,(temp1.size,1))\n",
    "temp1=temp1.dot(temp1.T)\n",
    "temp1=len(data_2)*temp1\n",
    "\n",
    "S_B=temp1 + temp\n",
    "\n",
    "\n"
   ]
  },
  {
   "cell_type": "code",
   "execution_count": 31,
   "metadata": {
    "collapsed": true
   },
   "outputs": [],
   "source": [
    "from numpy.linalg import inv\n",
    "LDA_matrix=inv(S_W).dot(S_B)"
   ]
  },
  {
   "cell_type": "code",
   "execution_count": 32,
   "metadata": {
    "collapsed": true
   },
   "outputs": [],
   "source": [
    "from numpy import linalg as LA\n",
    "LDA_eig_val, LDA_eig_vec = LA.eig(LDA_matrix)"
   ]
  },
  {
   "cell_type": "code",
   "execution_count": 34,
   "metadata": {
    "collapsed": false
   },
   "outputs": [],
   "source": [
    "LDA_eig_vec=np.real(LDA_eig_vec)\n",
    "LDA_eig_val=np.real(LDA_eig_val)"
   ]
  },
  {
   "cell_type": "code",
   "execution_count": 35,
   "metadata": {
    "collapsed": true
   },
   "outputs": [],
   "source": [
    "LDA_sorted_eig_val=np.sort(LDA_eig_val)[::-1]\n",
    "LDA_index_sorted_eig_val=np.argsort(LDA_eig_val)[::-1]"
   ]
  },
  {
   "cell_type": "code",
   "execution_count": 36,
   "metadata": {
    "collapsed": false
   },
   "outputs": [
    {
     "data": {
      "text/plain": [
       "array([  3.10025797e+02,   6.64095182e-16,   2.44123669e-17,\n",
       "         2.06257771e-17,   2.06257771e-17,   0.00000000e+00,\n",
       "        -4.55699503e-15])"
      ]
     },
     "execution_count": 36,
     "metadata": {},
     "output_type": "execute_result"
    }
   ],
   "source": [
    "LDA_sorted_eig_val"
   ]
  },
  {
   "cell_type": "code",
   "execution_count": 37,
   "metadata": {
    "collapsed": true
   },
   "outputs": [],
   "source": [
    "LDA_X_train_classifier=X_train_classifier.dot(LDA_eig_vec[:,LDA_index_sorted_eig_val[0]])"
   ]
  },
  {
   "cell_type": "code",
   "execution_count": 38,
   "metadata": {
    "collapsed": false
   },
   "outputs": [
    {
     "data": {
      "text/plain": [
       "(130,)"
      ]
     },
     "execution_count": 38,
     "metadata": {},
     "output_type": "execute_result"
    }
   ],
   "source": [
    "LDA_X_train_classifier.shape"
   ]
  },
  {
   "cell_type": "code",
   "execution_count": null,
   "metadata": {
    "collapsed": true
   },
   "outputs": [],
   "source": []
  }
 ],
 "metadata": {
  "anaconda-cloud": {},
  "kernelspec": {
   "display_name": "Python [default]",
   "language": "python",
   "name": "python3"
  },
  "language_info": {
   "codemirror_mode": {
    "name": "ipython",
    "version": 3
   },
   "file_extension": ".py",
   "mimetype": "text/x-python",
   "name": "python",
   "nbconvert_exporter": "python",
   "pygments_lexer": "ipython3",
   "version": "3.5.2"
  }
 },
 "nbformat": 4,
 "nbformat_minor": 1
}
