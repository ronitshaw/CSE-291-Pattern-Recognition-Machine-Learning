{
 "cells": [
  {
   "cell_type": "code",
   "execution_count": null,
   "metadata": {
    "collapsed": true
   },
   "outputs": [],
   "source": [
    "import matplotlib.pyplot as plt\n",
    "import numpy as np\n",
    "import pandas as pd\n",
    "\n",
    "from sklearn.tree import DecisionTreeClassifier\n",
    "from sklearn.model_selection import train_test_split, cross_val_score, KFold\n",
    "from sklearn.metrics import confusion_matrix, accuracy_score, zero_one_loss\n"
   ]
  },
  {
   "cell_type": "code",
   "execution_count": null,
   "metadata": {
    "collapsed": true
   },
   "outputs": [],
   "source": [
    "covertype_path = '/media/ronit/04101CEC101CE708/UCSD Spring 2017/CSE 291/Homework2/covtype.data'\n",
    "\n",
    "names = [\n",
    "    'Elevation',\n",
    "    'Aspect',\n",
    "    'Slope',\n",
    "    'Horizontal_Distance_To_Hydrology',\n",
    "    'Vertical_Distance_To_Hydrology',\n",
    "    'Horizontal_Distance_To_Roadways',\n",
    "    'Hillshade_9am',\n",
    "    'Hillshade_Noon',\n",
    "    'Hillshade_3pm',\n",
    "    'Horizontal_Distance_To_Fire_Points',\n",
    "]\n",
    "\n",
    "Wilderness_Area = []\n",
    "for i in range(4):\n",
    "    Wilderness_Area.append('Wilderness_Area_{}'.format(i+1))\n",
    "\n",
    "Soil_Type = []\n",
    "for i in range(40):\n",
    "    Soil_Type.append('Soil_Type_{}'.format(i+1))\n",
    "\n",
    "names.extend(Wilderness_Area + Soil_Type + ['Cover_Type'])\n",
    "covertype_df = pd.read_csv(covertype_path, names=names)"
   ]
  },
  {
   "cell_type": "code",
   "execution_count": null,
   "metadata": {
    "collapsed": true
   },
   "outputs": [],
   "source": [
    "covertype_df.head()"
   ]
  },
  {
   "cell_type": "code",
   "execution_count": null,
   "metadata": {
    "collapsed": true
   },
   "outputs": [],
   "source": [
    "rows=range(0,581012,10)\n",
    "covertype_df= covertype_df.ix[rows]\n",
    "covertype_df.shape"
   ]
  },
  {
   "cell_type": "code",
   "execution_count": null,
   "metadata": {
    "collapsed": true
   },
   "outputs": [],
   "source": [
    "X_train, X_test, y_train, y_test = train_test_split(X.as_matrix(), y.as_matrix(), test_size=0.25, random_state=42)"
   ]
  },
  {
   "cell_type": "code",
   "execution_count": null,
   "metadata": {
    "collapsed": true
   },
   "outputs": [],
   "source": [
    "from sklearn.tree import DecisionTreeClassifier\n",
    "from sklearn.model_selection import train_test_split, cross_val_score, KFold\n",
    "from sklearn.metrics import confusion_matrix, accuracy_score, zero_one_loss\n",
    "from sklearn.utils import resample\n",
    "from collections import defaultdict\n",
    "import matplotlib.pyplot as plt\n",
    "from scipy import stats"
   ]
  },
  {
   "cell_type": "code",
   "execution_count": null,
   "metadata": {
    "collapsed": true
   },
   "outputs": [],
   "source": [
    "X={}\n",
    "y={}\n",
    "data_index={}\n",
    "for i in [50,75,100]:\n",
    "    data_index[i]=np.random.random_integers(0,len(X_train)-1, size=int((i/100)*len(X_train)))\n",
    "    X[i]=X_train[data_index[i],:]\n",
    "    y[i]=y_train[data_index[i]]\n",
    "    "
   ]
  },
  {
   "cell_type": "code",
   "execution_count": null,
   "metadata": {
    "collapsed": true
   },
   "outputs": [],
   "source": [
    "from sklearn.neighbors import KNeighborsClassifier\n",
    "sco_final={}\n",
    "for i in [50,75,100]:\n",
    "    sco=defaultdict(list)\n",
    "    for k in range(1,11):\n",
    "        neigh = KNeighborsClassifier(n_neighbors=k*5)\n",
    "        for n_folds in [2,5]:\n",
    "            cv = KFold(n_splits=n_folds)\n",
    "            sc = cross_val_score(neigh,X[i],y[i],cv=cv)\n",
    "            sco[k*5].append(sc.mean())\n",
    "        print('k=  ',k*5,'  i=  ',i)    \n",
    "    sco_final[i]=sco"
   ]
  },
  {
   "cell_type": "code",
   "execution_count": null,
   "metadata": {
    "collapsed": true
   },
   "outputs": [],
   "source": [
    "covariance=np.cov((X_train).T)"
   ]
  },
  {
   "cell_type": "code",
   "execution_count": null,
   "metadata": {
    "collapsed": true
   },
   "outputs": [],
   "source": [
    "from sklearn.neighbors import DistanceMetric\n",
    "sco_final_mah={}\n",
    "for i in [50,75,100]:\n",
    "    sco=defaultdict(list)\n",
    "    for k in range(1,11):\n",
    "        neigh = KNeighborsClassifier(algorithm ='ball_tree',n_neighbors=k*5,metric='mahalanobis',metric_params={\"V\":covariance})\n",
    "        for n_folds in [2,5]:\n",
    "            cv = KFold(n_splits=n_folds)\n",
    "            sc = cross_val_score(neigh,X[i],y[i],cv=cv)\n",
    "            sco[k*5].append(sc.mean())\n",
    "        print('k=  ',k*5,'  i=  ',i)    \n",
    "    sco_final_mah[i]=sco"
   ]
  }
 ],
 "metadata": {
  "kernelspec": {
   "display_name": "Python 3",
   "language": "python",
   "name": "python3"
  },
  "language_info": {
   "codemirror_mode": {
    "name": "ipython",
    "version": 3
   },
   "file_extension": ".py",
   "mimetype": "text/x-python",
   "name": "python",
   "nbconvert_exporter": "python",
   "pygments_lexer": "ipython3",
   "version": "3.6.1"
  }
 },
 "nbformat": 4,
 "nbformat_minor": 2
}
